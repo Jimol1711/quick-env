{
 "cells": [
  {
   "cell_type": "code",
   "execution_count": 1,
   "id": "8628ee2f",
   "metadata": {},
   "outputs": [
    {
     "data": {
      "text/plain": [
       "np.float64(967.3299999999999)"
      ]
     },
     "execution_count": 1,
     "metadata": {},
     "output_type": "execute_result"
    }
   ],
   "source": [
    "import pandas as pd\n",
    "\n",
    "file_name = \"Saldo_y_Mov_No_Facturado.xls\"\n",
    "df = pd.read_excel(file_name, header=17)\n",
    "df = df.dropna(axis=1, how=\"all\")\n",
    "df = df.dropna(how=\"all\")\n",
    "df = df.reset_index(drop=True)\n",
    "\n",
    "df['Monto (USD)'].sum()"
   ]
  },
  {
   "cell_type": "code",
   "execution_count": 2,
   "id": "af58220a",
   "metadata": {},
   "outputs": [],
   "source": [
    "import requests\n",
    "\n",
    "def get_usd_to_clp_rate():\n",
    "    # Using ExchangeRate-API open endpoint\n",
    "    url = \"https://open.er-api.com/v6/latest/USD\"\n",
    "    resp = requests.get(url)\n",
    "    data = resp.json()\n",
    "    # The JSON has a \"rates\" object, with \"CLP\" inside\n",
    "    rate = data[\"rates\"][\"CLP\"]\n",
    "    return rate"
   ]
  },
  {
   "cell_type": "code",
   "execution_count": 3,
   "id": "653245ca",
   "metadata": {},
   "outputs": [
    {
     "name": "stdout",
     "output_type": "stream",
     "text": [
      "USD → CLP rate: 951.767788\n",
      "Total USD amount: 967.3299999999999\n",
      "Total in CLP: 920673.53\n"
     ]
    }
   ],
   "source": [
    "rate_usd_clp = get_usd_to_clp_rate()\n",
    "print(f\"USD → CLP rate: {rate_usd_clp}\")\n",
    "\n",
    "# 3. Sum the “Monto (USD)” column\n",
    "#   Make sure to drop or ignore NaNs; convert dtype if it's string etc.\n",
    "usd_sum = df[\"Monto (USD)\"].dropna().astype(float).sum()\n",
    "print(f\"Total USD amount: {usd_sum}\")\n",
    "\n",
    "# 4. Convert to CLP\n",
    "total_clp = usd_sum * rate_usd_clp\n",
    "print(f\"Total in CLP: {total_clp:.2f}\")"
   ]
  }
 ],
 "metadata": {
  "kernelspec": {
   "display_name": "base",
   "language": "python",
   "name": "python3"
  },
  "language_info": {
   "codemirror_mode": {
    "name": "ipython",
    "version": 3
   },
   "file_extension": ".py",
   "mimetype": "text/x-python",
   "name": "python",
   "nbconvert_exporter": "python",
   "pygments_lexer": "ipython3",
   "version": "3.13.5"
  }
 },
 "nbformat": 4,
 "nbformat_minor": 5
}
